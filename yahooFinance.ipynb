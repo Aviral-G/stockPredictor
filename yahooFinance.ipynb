{
 "cells": [
  {
   "cell_type": "code",
   "execution_count": 2,
   "metadata": {},
   "outputs": [],
   "source": [
    "import requests\n",
    "import time"
   ]
  },
  {
   "cell_type": "code",
   "execution_count": 3,
   "metadata": {},
   "outputs": [
    {
     "name": "stdout",
     "output_type": "stream",
     "text": [
      "Rate limited. Retrying in 1 seconds...\n",
      "Rate limited. Retrying in 2 seconds...\n",
      "Rate limited. Retrying in 4 seconds...\n",
      "Rate limited. Retrying in 8 seconds...\n",
      "Rate limited. Retrying in 16 seconds...\n",
      "Failed to fetch data: 429\n"
     ]
    }
   ],
   "source": [
    "def fetch_yahoo_finance_news(symbol):\n",
    "    url = f\"https://query1.finance.yahoo.com/v2/finance/news?symbols={symbol}\"\n",
    "    response = requests.get(url)\n",
    "    retries = 5\n",
    "    delay = 1  # Start with a 1-second delay\n",
    "\n",
    "    for attempt in range(retries):\n",
    "        response = requests.get(url)\n",
    "        \n",
    "        if response.status_code == 200:\n",
    "            data = response.json()\n",
    "            # Process data as before\n",
    "            print(\"Data fetched successfully.\")\n",
    "            break\n",
    "        elif response.status_code == 429:\n",
    "            print(f\"Rate limited. Retrying in {delay} seconds...\")\n",
    "            time.sleep(delay)\n",
    "            delay *= 2  # Exponential backoff\n",
    "        else:\n",
    "            print(\"Failed to fetch data:\", response.status_code)\n",
    "            break\n",
    "    \n",
    "    if response.status_code == 200:\n",
    "        data = response.json()\n",
    "        if 'items' in data and 'result' in data['items']:\n",
    "            news_items = data['items']['result']\n",
    "            \n",
    "            for item in news_items:\n",
    "                title = item.get('title')\n",
    "                link = item.get('link')\n",
    "                date = item.get('pubDate')  # This is usually in a timestamp format\n",
    "                \n",
    "                print({\n",
    "                    'title': title,\n",
    "                    'url': link,\n",
    "                    'date': date\n",
    "                })\n",
    "                time.sleep(100)\n",
    "        else:\n",
    "            print(\"No news items found.\")\n",
    "    else:\n",
    "        print(\"Failed to fetch data:\", response.status_code)\n",
    "\n",
    "# Example usage\n",
    "fetch_yahoo_finance_news(\"AAPL\")"
   ]
  }
 ],
 "metadata": {
  "kernelspec": {
   "display_name": "Python 3",
   "language": "python",
   "name": "python3"
  },
  "language_info": {
   "codemirror_mode": {
    "name": "ipython",
    "version": 3
   },
   "file_extension": ".py",
   "mimetype": "text/x-python",
   "name": "python",
   "nbconvert_exporter": "python",
   "pygments_lexer": "ipython3",
   "version": "3.12.6"
  }
 },
 "nbformat": 4,
 "nbformat_minor": 2
}
