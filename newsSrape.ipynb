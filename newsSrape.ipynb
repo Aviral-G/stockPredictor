{
 "cells": [
  {
   "cell_type": "code",
   "execution_count": null,
   "metadata": {},
   "outputs": [],
   "source": [
    "# from newspaper import Article\n",
    "# import nltk\n",
    "\n",
    "# url = 'https://www.yahoo.com/news/labor-board-accuses-apple-suppressing-222846876.html'\n",
    "# article = Article(url)\n",
    "\n",
    "# try:\n",
    "#     article.download()\n",
    "#     article.parse()\n",
    "#     article.nlp()  # Run NLP after parsing\n",
    "\n",
    "#     # Print results\n",
    "#     print(\"Summary:\", article.summary)\n",
    "# except Exception as e:\n",
    "#     print(\"An error occurred:\", e)"
   ]
  },
  {
   "cell_type": "code",
   "execution_count": 105,
   "metadata": {},
   "outputs": [],
   "source": [
    "from newspaper import Article\n",
    "import newspaper\n",
    "import pandas as pd\n",
    "# from langdetect import detect\n",
    "from sumy.parsers.plaintext import PlaintextParser\n",
    "from sumy.nlp.tokenizers import Tokenizer\n",
    "from sumy.summarizers.lsa import LsaSummarizer"
   ]
  },
  {
   "cell_type": "code",
   "execution_count": null,
   "metadata": {},
   "outputs": [],
   "source": [
    "def scrape_tesla_news(url):\n",
    "    \"\"\"\n",
    "    Scrapes Tesla news from the given Yahoo Finance URL.\n",
    "\n",
    "    Args:\n",
    "        url: The URL of the Yahoo Finance page for Tesla news.\n",
    "\n",
    "    Returns:\n",
    "        A pandas DataFrame with columns 'title', 'summary', and 'date'.\n",
    "    \"\"\"\n",
    "\n",
    "    paper = newspaper.build(url)\n",
    "    articles = paper.articles\n",
    "\n",
    "    data = []\n",
    "    # n = 0\n",
    "    for article in articles:\n",
    "        # if n > 30:\n",
    "        #     break\n",
    "        try:   \n",
    "            article.download()\n",
    "            article.parse()\n",
    "            text = article.text\n",
    "            summary = summarize(text)\n",
    "            # language = detect(text)\n",
    "        except:\n",
    "            print('error occured')\n",
    "\n",
    "        # print(language)\n",
    "        data.append({'title': article.title,\n",
    "                    'text': text,\n",
    "                    'url': article.url,\n",
    "                    'summary': summary})\n",
    "        # n += 1\n",
    "\n",
    "    df = pd.DataFrame(data)\n",
    "    return df\n",
    "\n",
    "def summarize(text):\n",
    "    if type(text) == type(None):\n",
    "        return None\n",
    "    # Prepare the parser and summarizer\n",
    "    parser = PlaintextParser.from_string(text, Tokenizer(\"english\"))\n",
    "    summarizer = LsaSummarizer()\n",
    "\n",
    "    # Set the number of sentences you want in the summary\n",
    "    summary = summarizer(parser.document, 3)  # Summary with 3 sentences\n",
    "\n",
    "    sentenceV = \"\"\n",
    "    # Print the summary sentences\n",
    "    for sentence in summary:\n",
    "        sentenceV += str(sentence)\n",
    "    \n",
    "    return sentenceV"
   ]
  },
  {
   "cell_type": "code",
   "execution_count": 94,
   "metadata": {},
   "outputs": [
    {
     "name": "stdout",
     "output_type": "stream",
     "text": [
      "error occured\n",
      "error occured\n"
     ]
    }
   ],
   "source": [
    "# Replace with the actual Yahoo Finance URL for Tesla news\n",
    "url = \"https://stockanalysis.com/stocks/aapl/\"\n",
    "\n",
    "df = scrape_tesla_news(url)\n",
    "\n",
    "# Save the DataFrame to a CSV file\n",
    "# df.to_csv('tesla_news.csv', index=False)"
   ]
  },
  {
   "cell_type": "code",
   "execution_count": 95,
   "metadata": {},
   "outputs": [],
   "source": [
    "from newspaper import Article"
   ]
  },
  {
   "cell_type": "code",
   "execution_count": null,
   "metadata": {},
   "outputs": [
    {
     "name": "stdout",
     "output_type": "stream",
     "text": [
      "error occured Article `download()` failed with 401 Client Error: HTTP Forbidden for url: https://www.marketwatch.com/story/23andme-to-slash-40-of-its-workforce-end-therapeutics-program-to-cut-costs-996657b7 on URL https://www.marketwatch.com/story/23andme-to-slash-40-of-its-workforce-end-therapeutics-program-to-cut-costs-996657b7\n",
      "error occured Article `download()` failed with 403 Client Error: Forbidden for url: https://www.etftrends.com/monthly-income-channel/dont-miss-revamped-nusi-tech-investing/ on URL https://www.etftrends.com/monthly-income-channel/dont-miss-revamped-nusi-tech-investing/\n"
     ]
    }
   ],
   "source": [
    "for i, url in enumerate(df['url']):\n",
    "    try:\n",
    "        article = Article(url)\n",
    "        article.download()\n",
    "        article.parse()\n",
    "        df.at[i, 'text'] = article.text\n",
    "    except Exception as e:\n",
    "        df.at[i, 'text'] = None\n",
    "        df.at[i, 'date'] = None\n",
    "        print('error occured', e)"
   ]
  },
  {
   "cell_type": "code",
   "execution_count": 97,
   "metadata": {},
   "outputs": [],
   "source": [
    "from bs4 import BeautifulSoup as bs\n",
    "import requests"
   ]
  },
  {
   "cell_type": "code",
   "execution_count": null,
   "metadata": {},
   "outputs": [],
   "source": [
    "#Getting the dates (r u sure this wroks...?)\n",
    "#If the website is working with beautiful soup, can't we just get the urls with beautiful soup too? \n",
    "#beacause bs4 is way more lightweight than newspaper3k\n",
    "r = requests.get('https://stockanalysis.com/stocks/aapl/')\n",
    "soup = bs(r.text, 'html.parser')\n",
    "\n",
    "dates = soup.select('div.mt-1.text-sm.text-faded.sm\\\\:order-1.sm\\\\:mt-0')\n",
    "\n",
    "#Are we sure about the accuray of this?\n",
    "all_dates = []\n",
    "\n",
    "for date in dates:\n",
    "    all_dates.append(date['title'])"
   ]
  },
  {
   "cell_type": "code",
   "execution_count": null,
   "metadata": {},
   "outputs": [],
   "source": [
    "#appending the date\n",
    "df[\"date\"] = pd.Series(all_dates)"
   ]
  },
  {
   "cell_type": "code",
   "execution_count": null,
   "metadata": {},
   "outputs": [
    {
     "data": {
      "text/html": [
       "<div>\n",
       "<style scoped>\n",
       "    .dataframe tbody tr th:only-of-type {\n",
       "        vertical-align: middle;\n",
       "    }\n",
       "\n",
       "    .dataframe tbody tr th {\n",
       "        vertical-align: top;\n",
       "    }\n",
       "\n",
       "    .dataframe thead th {\n",
       "        text-align: right;\n",
       "    }\n",
       "</style>\n",
       "<table border=\"1\" class=\"dataframe\">\n",
       "  <thead>\n",
       "    <tr style=\"text-align: right;\">\n",
       "      <th></th>\n",
       "      <th>title</th>\n",
       "      <th>text</th>\n",
       "      <th>url</th>\n",
       "      <th>date</th>\n",
       "      <th>summary</th>\n",
       "    </tr>\n",
       "  </thead>\n",
       "  <tbody>\n",
       "    <tr>\n",
       "      <th>1</th>\n",
       "      <td>23andMe to slash 40% of its workforce, end the...</td>\n",
       "      <td>None</td>\n",
       "      <td>https://www.marketwatch.com/story/23andme-to-s...</td>\n",
       "      <td>Nov 11, 2024, 12:00 PM EST</td>\n",
       "      <td>None</td>\n",
       "    </tr>\n",
       "    <tr>\n",
       "      <th>2</th>\n",
       "      <td>Don't Miss the Revamped NUSI When Tech Investing</td>\n",
       "      <td>None</td>\n",
       "      <td>https://www.etftrends.com/monthly-income-chann...</td>\n",
       "      <td>Nov 7, 2024, 3:05 PM EST</td>\n",
       "      <td>None</td>\n",
       "    </tr>\n",
       "  </tbody>\n",
       "</table>\n",
       "</div>"
      ],
      "text/plain": [
       "                                               title  text  \\\n",
       "1  23andMe to slash 40% of its workforce, end the...  None   \n",
       "2   Don't Miss the Revamped NUSI When Tech Investing  None   \n",
       "\n",
       "                                                 url  \\\n",
       "1  https://www.marketwatch.com/story/23andme-to-s...   \n",
       "2  https://www.etftrends.com/monthly-income-chann...   \n",
       "\n",
       "                         date summary  \n",
       "1  Nov 11, 2024, 12:00 PM EST    None  \n",
       "2    Nov 7, 2024, 3:05 PM EST    None  "
      ]
     },
     "execution_count": 102,
     "metadata": {},
     "output_type": "execute_result"
    }
   ],
   "source": [
    "#getting which websites are fucked\n",
    "df[df['text'].apply(type) == type(None)]"
   ]
  },
  {
   "cell_type": "code",
   "execution_count": 103,
   "metadata": {},
   "outputs": [
    {
     "data": {
      "text/html": [
       "<div>\n",
       "<style scoped>\n",
       "    .dataframe tbody tr th:only-of-type {\n",
       "        vertical-align: middle;\n",
       "    }\n",
       "\n",
       "    .dataframe tbody tr th {\n",
       "        vertical-align: top;\n",
       "    }\n",
       "\n",
       "    .dataframe thead th {\n",
       "        text-align: right;\n",
       "    }\n",
       "</style>\n",
       "<table border=\"1\" class=\"dataframe\">\n",
       "  <thead>\n",
       "    <tr style=\"text-align: right;\">\n",
       "      <th></th>\n",
       "      <th>title</th>\n",
       "      <th>text</th>\n",
       "      <th>url</th>\n",
       "      <th>date</th>\n",
       "      <th>summary</th>\n",
       "    </tr>\n",
       "  </thead>\n",
       "  <tbody>\n",
       "    <tr>\n",
       "      <th>0</th>\n",
       "      <td>European Google rivals partner on search engin...</td>\n",
       "      <td>In this article GOOGL Follow your favorite sto...</td>\n",
       "      <td>https://www.cnbc.com/2024/11/12/ecosia-qwant-p...</td>\n",
       "      <td>Nov 11, 2024, 3:42 PM EST</td>\n",
       "      <td>Abecassis will also serve as CEO of the new ve...</td>\n",
       "    </tr>\n",
       "    <tr>\n",
       "      <th>1</th>\n",
       "      <td>23andMe to slash 40% of its workforce, end the...</td>\n",
       "      <td>None</td>\n",
       "      <td>https://www.marketwatch.com/story/23andme-to-s...</td>\n",
       "      <td>Nov 11, 2024, 12:00 PM EST</td>\n",
       "      <td>None</td>\n",
       "    </tr>\n",
       "    <tr>\n",
       "      <th>2</th>\n",
       "      <td>Don't Miss the Revamped NUSI When Tech Investing</td>\n",
       "      <td>None</td>\n",
       "      <td>https://www.etftrends.com/monthly-income-chann...</td>\n",
       "      <td>Nov 7, 2024, 3:05 PM EST</td>\n",
       "      <td>None</td>\n",
       "    </tr>\n",
       "    <tr>\n",
       "      <th>3</th>\n",
       "      <td>IAC Considers A Spin-Off Of Angi After Q3 Repo...</td>\n",
       "      <td>IAC IAC announced in its third-quarter earning...</td>\n",
       "      <td>https://www.benzinga.com/trading-ideas/24/11/4...</td>\n",
       "      <td>Nov 7, 2024, 3:00 PM EST</td>\n",
       "      <td>This news comes as Angi shares traded lower af...</td>\n",
       "    </tr>\n",
       "  </tbody>\n",
       "</table>\n",
       "</div>"
      ],
      "text/plain": [
       "                                               title  \\\n",
       "0  European Google rivals partner on search engin...   \n",
       "1  23andMe to slash 40% of its workforce, end the...   \n",
       "2   Don't Miss the Revamped NUSI When Tech Investing   \n",
       "3  IAC Considers A Spin-Off Of Angi After Q3 Repo...   \n",
       "\n",
       "                                                text  \\\n",
       "0  In this article GOOGL Follow your favorite sto...   \n",
       "1                                               None   \n",
       "2                                               None   \n",
       "3  IAC IAC announced in its third-quarter earning...   \n",
       "\n",
       "                                                 url  \\\n",
       "0  https://www.cnbc.com/2024/11/12/ecosia-qwant-p...   \n",
       "1  https://www.marketwatch.com/story/23andme-to-s...   \n",
       "2  https://www.etftrends.com/monthly-income-chann...   \n",
       "3  https://www.benzinga.com/trading-ideas/24/11/4...   \n",
       "\n",
       "                         date  \\\n",
       "0   Nov 11, 2024, 3:42 PM EST   \n",
       "1  Nov 11, 2024, 12:00 PM EST   \n",
       "2    Nov 7, 2024, 3:05 PM EST   \n",
       "3    Nov 7, 2024, 3:00 PM EST   \n",
       "\n",
       "                                             summary  \n",
       "0  Abecassis will also serve as CEO of the new ve...  \n",
       "1                                               None  \n",
       "2                                               None  \n",
       "3  This news comes as Angi shares traded lower af...  "
      ]
     },
     "execution_count": 103,
     "metadata": {},
     "output_type": "execute_result"
    }
   ],
   "source": [
    "df.head()"
   ]
  },
  {
   "cell_type": "code",
   "execution_count": 104,
   "metadata": {},
   "outputs": [
    {
     "data": {
      "text/plain": [
       "(4, 5)"
      ]
     },
     "execution_count": 104,
     "metadata": {},
     "output_type": "execute_result"
    }
   ],
   "source": [
    "df.shape"
   ]
  }
 ],
 "metadata": {
  "kernelspec": {
   "display_name": "Python 3",
   "language": "python",
   "name": "python3"
  },
  "language_info": {
   "codemirror_mode": {
    "name": "ipython",
    "version": 3
   },
   "file_extension": ".py",
   "mimetype": "text/x-python",
   "name": "python",
   "nbconvert_exporter": "python",
   "pygments_lexer": "ipython3",
   "version": "3.12.6"
  }
 },
 "nbformat": 4,
 "nbformat_minor": 2
}
